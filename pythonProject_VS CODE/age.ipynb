{
 "cells": [
  {
   "cell_type": "code",
   "execution_count": 1,
   "metadata": {},
   "outputs": [
    {
     "name": "stdout",
     "output_type": "stream",
     "text": [
      "Hello world\n"
     ]
    }
   ],
   "source": [
    "print(\"Hello world\")"
   ]
  },
  {
   "cell_type": "code",
   "execution_count": 2,
   "metadata": {},
   "outputs": [
    {
     "data": {
      "text/plain": [
       "(1, 5, 3, 4)"
      ]
     },
     "execution_count": 2,
     "metadata": {},
     "output_type": "execute_result"
    }
   ],
   "source": [
    "def function_name_pirnt(a,b,c,d):\n",
    "    return(a,b,c,d)\n",
    "\n",
    "function_name_pirnt(1,5,3,4)"
   ]
  },
  {
   "cell_type": "code",
   "execution_count": 8,
   "metadata": {},
   "outputs": [
    {
     "name": "stdout",
     "output_type": "stream",
     "text": [
      "('Gagan', 'Raju', 'Kanha', 'Kaushal')\n"
     ]
    }
   ],
   "source": [
    "def funargs(*args):\n",
    "    for item in args:\n",
    "\n",
    "        # print(item)\n",
    "        return item\n",
    "    \n",
    "\n",
    "tup = (\"Gagan\",\"Raju\",\"Kanha\",\"Kaushal\")\n",
    "\n",
    "print(funargs(tup))"
   ]
  },
  {
   "cell_type": "code",
   "execution_count": 17,
   "metadata": {},
   "outputs": [
    {
     "name": "stdout",
     "output_type": "stream",
     "text": [
      "I am a normal aruguement : \n",
      "('Gagan', 'Raju', 'Kanha', 'Kaushal')\n"
     ]
    }
   ],
   "source": [
    "from locale import normalize\n",
    "\n",
    "\n",
    "def funargs(normal ,*args):\n",
    "    for item in args:\n",
    "\n",
    "        print(normal)\n",
    "        # print(item)\n",
    "        return  item\n",
    "    \n",
    "normal = \"I am a normal aruguement : \"\n",
    "tup = (\"Gagan\",\"Raju\",\"Kanha\",\"Kaushal\")\n",
    "\n",
    "print(funargs(normal,tup))"
   ]
  },
  {
   "cell_type": "code",
   "execution_count": 26,
   "metadata": {},
   "outputs": [
    {
     "name": "stdout",
     "output_type": "stream",
     "text": [
      "I am a normal aruguement : \n",
      "('Gagan', 'Raju', 'Kanha', 'Kaushal')\n",
      "\n",
      "\n",
      "now,I would like to introduce :\n",
      "Gagan is a Leader\n",
      "Rashid is a Co-Leader\n",
      "Azhar is a Logic builder\n",
      "None\n"
     ]
    }
   ],
   "source": [
    "from locale import normalize\n",
    "\n",
    "\n",
    "def funargs(normal ,*args,**kwargs):\n",
    "    for item in args:\n",
    "        print(normal)\n",
    "        print( item)\n",
    "        print(\"\\n\")\n",
    "    print(\"now,I would like to introduce :\")\n",
    "\n",
    "    for key,value in kwargs.items():\n",
    "        print(f\"{key} is a {value}\")\n",
    "    \n",
    "    \n",
    "normal = \"I am a normal aruguement : \"\n",
    "tup = (\"Gagan\",\"Raju\",\"Kanha\",\"Kaushal\")\n",
    "\n",
    "\n",
    "kw = {\"Gagan\":\"Leader\",\"Rashid\":\"Co-Leader\",\"Azhar\":\"Logic builder\"}\n",
    "\n",
    "print(funargs(normal,tup,**kw))\n"
   ]
  },
  {
   "cell_type": "code",
   "execution_count": 22,
   "metadata": {},
   "outputs": [
    {
     "name": "stdout",
     "output_type": "stream",
     "text": [
      "I am a normal Argument and the students are:\n",
      "Harry\n",
      "Rohan\n",
      "Skillf\n",
      "Hammad\n",
      "Shivam\n",
      "The programmer\n",
      "\n",
      "Now I would Like to introduce some of our heroes\n",
      "Rohan is a Monitor\n",
      "Harry is a Fitness Instructor\n",
      "The Programmer is a Coordinator\n",
      "Shivam is a Cook\n"
     ]
    }
   ],
   "source": [
    "# def function_name_print(a, b, c, d, e):\n",
    "#     print(a, b, c, d, e)\n",
    "\n",
    "def funargs(normal, *argsrohan, **kwargsbala):\n",
    "    print(normal)\n",
    "    for item in argsrohan:\n",
    "        print(item)\n",
    "    print(\"\\nNow I would Like to introduce some of our heroes\")\n",
    "    for key, value in kwargsbala.items():\n",
    "        print(f\"{key} is a {value}\")\n",
    "\n",
    "\n",
    "# function_name_print(\"Harry\", \"Rohan\", \"Skillf\", \"Hammad\", \"Shivam\")\n",
    "\n",
    "har = [\"Harry\", \"Rohan\", \"Skillf\", \"Hammad\",\n",
    "       \"Shivam\", \"The programmer\"]\n",
    "normal = \"I am a normal Argument and the students are:\"\n",
    "kw = {\"Rohan\":\"Monitor\", \"Harry\":\"Fitness Instructor\",\n",
    "      \"The Programmer\": \"Coordinator\", \"Shivam\":\"Cook\"}\n",
    "funargs(normal, *har, **kw)"
   ]
  },
  {
   "cell_type": "code",
   "execution_count": 3,
   "metadata": {},
   "outputs": [
    {
     "data": {
      "text/plain": [
       "30"
      ]
     },
     "execution_count": 3,
     "metadata": {},
     "output_type": "execute_result"
    }
   ],
   "source": [
    "\n",
    "\n",
    "\n",
    "def numbers_(a=1,b=1):\n",
    "    mul_ = a*b;\n",
    "    return mul_ \n",
    "\n",
    "numbers_(5,6)"
   ]
  },
  {
   "cell_type": "code",
   "execution_count": 4,
   "metadata": {},
   "outputs": [],
   "source": [
    "def inp_():\n",
    "    a=int(input());\n",
    "    b=int(input());\n",
    "\n",
    "    return a+b\n",
    "inp_()\n"
   ]
  },
  {
   "cell_type": "code",
   "execution_count": null,
   "metadata": {},
   "outputs": [],
   "source": []
  },
  {
   "cell_type": "code",
   "execution_count": null,
   "metadata": {},
   "outputs": [],
   "source": []
  },
  {
   "cell_type": "code",
   "execution_count": null,
   "metadata": {},
   "outputs": [],
   "source": []
  }
 ],
 "metadata": {
  "kernelspec": {
   "display_name": "Python 3.10.4 64-bit",
   "language": "python",
   "name": "python3"
  },
  "language_info": {
   "codemirror_mode": {
    "name": "ipython",
    "version": 3
   },
   "file_extension": ".py",
   "mimetype": "text/x-python",
   "name": "python",
   "nbconvert_exporter": "python",
   "pygments_lexer": "ipython3",
   "version": "3.10.4"
  },
  "orig_nbformat": 4,
  "vscode": {
   "interpreter": {
    "hash": "8c3d4d9970fc5c09c50d9318a9c7fbf4d0159e4b28833276f5678ee22bded273"
   }
  }
 },
 "nbformat": 4,
 "nbformat_minor": 2
}
